{
  "nbformat": 4,
  "nbformat_minor": 0,
  "metadata": {
    "accelerator": "GPU",
    "colab": {
      "name": "DL_Lab3.ipynb",
      "provenance": [],
      "collapsed_sections": []
    },
    "kernelspec": {
      "display_name": "Python 3",
      "language": "python",
      "name": "python3"
    },
    "language_info": {
      "codemirror_mode": {
        "name": "ipython",
        "version": 3
      },
      "file_extension": ".py",
      "mimetype": "text/x-python",
      "name": "python",
      "nbconvert_exporter": "python",
      "pygments_lexer": "ipython3",
      "version": "3.6.3"
    },
    "pycharm": {
      "stem_cell": {
        "cell_type": "raw",
        "metadata": {
          "collapsed": false
        },
        "source": []
      }
    }
  },
  "cells": [
    {
      "cell_type": "markdown",
      "metadata": {
        "id": "xNNVCnUrqgvN",
        "colab_type": "text"
      },
      "source": [
        "<a href=\"https://colab.research.google.com/github/wingated/cs474_labs_f2019/blob/master/DL_Lab3.ipynb\" target=\"_parent\"><img src=\"https://colab.research.google.com/assets/colab-badge.svg\" alt=\"Open In Colab\"/></a>"
      ]
    },
    {
      "cell_type": "markdown",
      "metadata": {
        "colab_type": "text",
        "id": "view-in-github"
      },
      "source": [
        "# Lab 3: Intro to CNNs and DNNs\n",
        "\n",
        "## Objectives\n",
        "\n",
        "* Build and train a deep conv net\n",
        "* Explore and implement various initialization techniques\n",
        "* Implement a parameterized module in Pytorch\n",
        "* Use a principled loss function\n",
        "\n",
        "## Video Tutorial\n",
        "[https://youtu.be/3TAuTcx-VCc](https://youtu.be/3TAuTcx-VCc)\n",
        "\n",
        "## Deliverable\n",
        "For this lab, you will submit an ipython notebook via learningsuite.\n",
        "This is where you build your first deep neural network!\n",
        "\n",
        "For this lab, we'll be combining several different concepts that we've covered during class,\n",
        "including new layer types, initialization strategies, and an understanding of convolutions.\n",
        "\n",
        "## Grading Standards:\n",
        "* 30% Part 0: Successfully followed lab video and typed in code\n",
        "* 20% Part 1: Re-implement Conv2D and CrossEntropy loss function\n",
        "* 20% Part 2: Implement different initialization strategies\n",
        "* 10% Part 3: Print parameters, plot train/test accuracy\n",
        "* 10% Part 4: Convolution parameters quiz\n",
        "* 10% Tidy and legible figures, including labeled axes where appropriate\n",
        "___\n",
        "\n",
        "### Part 0\n",
        "Watch and follow video tutorial:\n",
        "\n",
        "[https://youtu.be/3TAuTcx-VCc](https://youtu.be/3TAuTcx-VCc)\n",
        "\n",
        "**TODO:**\n",
        "\n",
        "* Watch tutorial\n",
        "\n",
        "**DONE:**\n",
        "\n",
        "* Watch tutorial"
      ]
    },
    {
      "cell_type": "code",
      "metadata": {
        "pycharm": {
          "name": "#%%\n"
        },
        "id": "G0zaxd4dqgvS",
        "colab_type": "code",
        "outputId": "46910c8a-881e-4082-94a9-3c8a8d2aceac",
        "colab": {
          "base_uri": "https://localhost:8080/",
          "height": 168
        }
      },
      "source": [
        "!pip3 install torch\n",
        "!pip3 install torchvision\n",
        "!pip3 install tqdm"
      ],
      "execution_count": 0,
      "outputs": [
        {
          "output_type": "stream",
          "text": [
            "Requirement already satisfied: torch in /usr/local/lib/python3.6/dist-packages (1.1.0)\n",
            "Requirement already satisfied: numpy in /usr/local/lib/python3.6/dist-packages (from torch) (1.16.5)\n",
            "Requirement already satisfied: torchvision in /usr/local/lib/python3.6/dist-packages (0.3.0)\n",
            "Requirement already satisfied: pillow>=4.1.1 in /usr/local/lib/python3.6/dist-packages (from torchvision) (4.3.0)\n",
            "Requirement already satisfied: numpy in /usr/local/lib/python3.6/dist-packages (from torchvision) (1.16.5)\n",
            "Requirement already satisfied: six in /usr/local/lib/python3.6/dist-packages (from torchvision) (1.12.0)\n",
            "Requirement already satisfied: torch>=1.1.0 in /usr/local/lib/python3.6/dist-packages (from torchvision) (1.1.0)\n",
            "Requirement already satisfied: olefile in /usr/local/lib/python3.6/dist-packages (from pillow>=4.1.1->torchvision) (0.46)\n",
            "Requirement already satisfied: tqdm in /usr/local/lib/python3.6/dist-packages (4.28.1)\n"
          ],
          "name": "stdout"
        }
      ]
    },
    {
      "cell_type": "markdown",
      "metadata": {
        "id": "8nQkqUaMqgvW",
        "colab_type": "text"
      },
      "source": [
        ""
      ]
    },
    {
      "cell_type": "code",
      "metadata": {
        "colab_type": "code",
        "id": "wQOefmcZVgTl",
        "colab": {}
      },
      "source": [
        "import torch\n",
        "import torch.nn as nn\n",
        "import torch.nn.functional as F\n",
        "import torch.optim as optim\n",
        "from torch.utils.data import Dataset, DataLoader\n",
        "import numpy as np\n",
        "import matplotlib.pyplot as plt\n",
        "from torchvision import transforms, utils, datasets\n",
        "from tqdm import tqdm\n",
        "from torch.nn.parameter import Parameter\n",
        "import pdb\n",
        "\n",
        "assert torch.cuda.is_available(), \"You need to request a GPU from Runtime > Change Runtime\""
      ],
      "execution_count": 0,
      "outputs": []
    },
    {
      "cell_type": "code",
      "metadata": {
        "colab_type": "code",
        "id": "Il_53HLSWPTY",
        "colab": {}
      },
      "source": [
        "# this is the code from the video; my modifications are under Part 2\n",
        "class Conv2d(nn.Module):\n",
        "  def __init__(self, in_channels, out_channels, kernel_size, stride=1, padding=0, dilation=1, groups=1, bias=True, padding_mode='zeros'):\n",
        "    self.__dict__.update(locals())\n",
        "    super(Conv2d, self).__init__()\n",
        "    \n",
        "    self.weight = Parameter(torch.Tensor(self.out_channels, self.in_channels, *kernel_size))\n",
        "    self.weight.data.uniform_(-1, 1)\n",
        "    self.bias = Parameter(torch.Tensor(self.out_channels))\n",
        "    \n",
        "    self.weight.data.uniform_(-1, 1)\n",
        "    self.bias.data.uniform_(0, 0)\n",
        "   \n",
        "  def forward(self, x):\n",
        "    return F.conv2d(x, self.weight, self.bias, self.stride, self.padding, self.dilation, self.groups)\n",
        "  \n",
        "  def extra_repr(self):\n",
        "    super(extra_repr, self) # don't know if this will work\n",
        "\n",
        "class ConvNetwork(nn.Module):\n",
        "  def __init__(self, dataset):\n",
        "    super(ConvNetwork, self).__init__()\n",
        "    x, y = dataset[0]\n",
        "    c, h, w = x.size()\n",
        "    output = 10\n",
        "    self.net = nn.Sequential(\n",
        "      Conv2d(c, 10, (3, 3), padding=(1,1)),\n",
        "      nn.ReLU(),\n",
        "      Conv2d(10, output, (28, 28), padding=(0,0))\n",
        "    )\n",
        "  \n",
        "  def forward(self, x):\n",
        "    return self.net(x).squeeze(2).squeeze(2)\n",
        "  \n",
        "class FashionMNISTProcessedDataset(Dataset):\n",
        "  def __init__(self, root, train=True):\n",
        "    self.data = datasets.FashionMNIST(root,\n",
        "                                     train=train,\n",
        "                                     transform=transforms.Compose([transforms.ToTensor(), transforms.Normalize((0.5,), (0.5,))]),\n",
        "                                     download=True)\n",
        "  \n",
        "  def __getitem__(self, i):\n",
        "    x, y = self.data[i]\n",
        "    return x, y\n",
        "  \n",
        "  def __len__(self):\n",
        "    return len(self.data)"
      ],
      "execution_count": 0,
      "outputs": []
    },
    {
      "cell_type": "markdown",
      "metadata": {
        "colab_type": "text",
        "id": "QY4owfQwm-Ni"
      },
      "source": [
        "___\n",
        "\n",
        "### Part 1\n",
        "Re-implement a Conv2D module with parameters and a CrossEntropy loss function.\n",
        "\n",
        "**TODO:**\n",
        "\n",
        "* CrossEntropyLoss \n",
        "* Conv2D\n",
        "\n",
        "**DONE:**\n",
        "\n",
        "* CrossEntropyLoss \n",
        "* Conv2D\n",
        "___\n",
        "\n",
        "### Part 2\n",
        "Implement a few initialization strategies which can include Xe initialization\n",
        "(sometimes called Xavier), Orthogonal initialization, and uniform random.\n",
        "You can specify which strategy you want to use with a parameter. \n",
        "\n",
        "\n",
        "\n",
        "Helpful links include:\n",
        "*  [Orthogonal Initialization](https://hjweide.github.io/orthogonal-initialization-in-convolutional-layers) (or the original paper: http://arxiv.org/abs/1312.6120)\n",
        "*  http://andyljones.tumblr.com/post/110998971763/an-explanation-of-xavier-initialization\n",
        "\n",
        "**TODO:**\n",
        "* Parameterize custom Conv2D for different initilization strategies\n",
        "* Xe\n",
        "* Orthogonal\n",
        "* Uniform\n",
        "\n",
        "**DONE:**\n",
        "* Parameterize custom Conv2D for different initilization strategies\n",
        "* Xe\n",
        "* Orthogonal\n",
        "* Uniform\n",
        "\n"
      ]
    },
    {
      "cell_type": "code",
      "metadata": {
        "colab_type": "code",
        "id": "RkieTbwlYWPS",
        "colab": {}
      },
      "source": [
        "class CrossEntropyLoss(nn.Module): # classification loss function\n",
        "  def __init__(self, weight=None, size_average=None, ignore_index=-100, reduce=None, reduction='mean'):\n",
        "    super(CrossEntropyLoss, self).__init__()\n",
        "    self.__dict__.update(locals())\n",
        "  \n",
        "  def forward(self, y_hat, y_truth):\n",
        "    wrong_class_penalty = torch.log(torch.sum(torch.exp(y_hat), dim=1))\n",
        "    n, classes = y_hat.size()  # dim: (batch_size x 10)\n",
        "    b = torch.zeros((n, classes))\n",
        "    b[np.arange(n), y_truth] = 1\n",
        "    true_class_preds = torch.sum(y_hat * b.cuda(), dim=1)\n",
        "    return torch.mean(-true_class_preds + wrong_class_penalty)\n",
        "\n",
        "class Conv2d(nn.Module):\n",
        "  def __init__(self, in_channels, out_channels, kernel_size, stride=1, padding=0, dilation=1, groups=1, bias=True, padding_mode='zeros', init_strategy=\"xe\"):\n",
        "    self.__dict__.update(locals())\n",
        "    super(Conv2d, self).__init__()\n",
        "    \n",
        "    self.weight = Parameter(torch.Tensor(self.out_channels, self.in_channels, *self.kernel_size))\n",
        "    self.weight.data.uniform_(-1, 1)\n",
        "    self.bias = Parameter(torch.Tensor(self.out_channels))\n",
        "    \n",
        "    self.bias.data.uniform_(0, 0)\n",
        "    \n",
        "    if init_strategy == \"xe\":\n",
        "      torch.nn.init.xavier_uniform_(self.weight)\n",
        "    \n",
        "    elif init_strategy == \"orthog\":\n",
        "      x = np.random.random((self.out_channels, self.in_channels * self.kernel_size[0] * self.kernel_size[1])).astype(np.float32)\n",
        "      u, _, vt = np.linalg.svd(x, full_matrices=False)\n",
        "      if len(x) > len(x[0]):\n",
        "        w = u.reshape((self.out_channels, self.in_channels, self.kernel_size[0], self.kernel_size[1]))\n",
        "      else:\n",
        "        w = vt.reshape((self.out_channels, self.in_channels, self.kernel_size[0], self.kernel_size[1]))\n",
        "      self.weight.data = torch.from_numpy(w)\n",
        "      \n",
        "    else:  # uniform\n",
        "      self.weight.data.uniform_(-1, 1)\n",
        "   \n",
        "  def forward(self, x):\n",
        "    return F.conv2d(x, self.weight, self.bias, self.stride, self.padding, self.dilation, self.groups)\n",
        "  \n",
        "  def extra_repr(self):\n",
        "    super(extra_repr, self) # don't know if this will work\n"
      ],
      "execution_count": 0,
      "outputs": []
    },
    {
      "cell_type": "code",
      "metadata": {
        "id": "30PYpb95e3JH",
        "colab_type": "code",
        "colab": {}
      },
      "source": [
        "def calc_accuracy(y_hat, y_truth):\n",
        "  guesses = np.argmax(y_hat.cpu().data, axis=1)\n",
        "  matches = [i.item() == j.item() for i, j in tuple(zip(guesses, y_truth.cpu().data))]\n",
        "  return matches.count(True) / len(matches)"
      ],
      "execution_count": 0,
      "outputs": []
    },
    {
      "cell_type": "code",
      "metadata": {
        "colab_type": "code",
        "id": "d4C-_v9Hm7YE",
        "colab": {}
      },
      "source": [
        "class ConvNetwork(nn.Module):\n",
        "  def __init__(self, dataset):\n",
        "    super(ConvNetwork, self).__init__()\n",
        "    x, y = dataset[0]\n",
        "    c, h, w = x.size()\n",
        "    output = 10\n",
        "#     self.net = nn.Sequential(\n",
        "#         Conv2d(c, 10, (3, 3), padding=(1,1)),\n",
        "#         nn.ReLU(),\n",
        "#         Conv2d(10, 64, (3, 3), padding=(1,1)),\n",
        "#         nn.ReLU(),\n",
        "#         Conv2d(64, 50, (28, 28), padding=(0,0)), # full something-something layer\n",
        "#         nn.ReLU(),\n",
        "#         Conv2d(50, output, (1, 1), padding=(0,0))\n",
        "#     )\n",
        "    self.net = nn.Sequential(\n",
        "        Conv2d(c, 10, (3, 3), padding=(1,1)),\n",
        "        nn.ReLU(),\n",
        "        Conv2d(10, 20, (3, 3), padding=(1,1)),\n",
        "        nn.ReLU(),\n",
        "        Conv2d(20, 64, (28, 28), padding=(0,0)), # full something-something layer\n",
        "        nn.ReLU(),\n",
        "        Conv2d(64, output, (1, 1), padding=(0,0))\n",
        "    )\n",
        "  \n",
        "  def forward(self, x):\n",
        "    return self.net(x).squeeze(2).squeeze(2)\n"
      ],
      "execution_count": 0,
      "outputs": []
    },
    {
      "cell_type": "code",
      "metadata": {
        "colab_type": "code",
        "id": "mTg1jyIsYVZN",
        "pycharm": {
          "is_executing": false
        },
        "colab": {
          "base_uri": "https://localhost:8080/",
          "height": 17
        },
        "outputId": "e7498444-c480-4666-a3d8-a7f023805479"
      },
      "source": [
        "# Instantiate the train and validation sets\n",
        "train_dataset = FashionMNISTProcessedDataset('/tmp/fashionmnist', train=True)\n",
        "validation_dataset = FashionMNISTProcessedDataset('/tmp/fashionmnist', train=False)\n",
        "\n",
        "# Instantiate your model and loss and optimizer functions\n",
        "model = ConvNetwork(train_dataset)\n",
        "model = model.cuda()\n",
        "objective = CrossEntropyLoss()\n",
        "optimizer = optim.SGD(model.parameters(), lr=.01)\n",
        "\n",
        "# Instantiate your data loaders\n",
        "train_loader = DataLoader(train_dataset, batch_size=64, pin_memory=True)\n",
        "validation_loader = DataLoader(validation_dataset, batch_size=64, pin_memory=True)\n",
        "\n",
        "# Run your training and validation loop and collect stats\n",
        "# Run your training / validation loops\n",
        "losses = []\n",
        "accuracies = []\n",
        "validation_losses = []\n",
        "validation_accuracies = []\n",
        "\n",
        "for epoch in range(3):\n",
        "  loop = tqdm(total=len(train_loader), position=0, leave=False)\n",
        "  \n",
        "  # training loop\n",
        "  for batch, (x, y_truth) in enumerate(train_loader):\n",
        "    x, y_truth = x.cuda(async=True), y_truth.cuda(async=True)\n",
        "\n",
        "    optimizer.zero_grad()\n",
        "    y_hat = model(x)\n",
        "    loss = objective(y_hat, y_truth)\n",
        "    losses.append(loss.item())\n",
        "    loss.backward()\n",
        "    \n",
        "    # accuracy\n",
        "    accuracy = calc_accuracy(y_hat, y_truth)\n",
        "    accuracies.append(accuracy)\n",
        "    \n",
        "    loop.set_description('epoch:{}, loss:{:4f}, accuracy:{:3f}'.format(epoch, loss, accuracy))\n",
        "    loop.update(1)\n",
        "    \n",
        "    optimizer.step()\n",
        "    \n",
        "    if batch % 500 == 0:\n",
        "      raw_vlosses = []\n",
        "      raw_vacc = []\n",
        "      for vx, vy_truth in validation_loader:\n",
        "        vx, vy_truth = vx.cuda(async=True), vy_truth.cuda(async=True)\n",
        "        \n",
        "        with torch.no_grad():\n",
        "          vy_hat = model(vx)\n",
        "        vloss = objective(vy_hat, vy_truth)\n",
        "        raw_vlosses.append(vloss.item())\n",
        "        \n",
        "        vaccuracy = calc_accuracy(vy_hat, vy_truth)\n",
        "        raw_vacc.append(vaccuracy)\n",
        "        \n",
        "      np.mean(raw_vlosses)\n",
        "      validation_losses.append((len(losses), np.mean(raw_vlosses)))\n",
        "      validation_accuracies.append((len(accuracies), np.mean(raw_vacc)))\n",
        "\n",
        "  loop.close()\n"
      ],
      "execution_count": 184,
      "outputs": [
        {
          "output_type": "stream",
          "text": [
            ""
          ],
          "name": "stderr"
        }
      ]
    },
    {
      "cell_type": "code",
      "metadata": {
        "id": "RAuC23SlMVHA",
        "colab_type": "code",
        "colab": {
          "base_uri": "https://localhost:8080/",
          "height": 295
        },
        "outputId": "630ce147-2115-4106-c784-e86bda285db1"
      },
      "source": [
        "# Write your code to create a plot of your loss over time\n",
        "a, b = zip(*validation_losses)\n",
        "plt.plot(losses, 'b-', label='Training Set')\n",
        "# plt.plot(validation_losses, 'g-', label='Validation Set')\n",
        "plt.plot(a, b, 'g-', label='Validation Set')\n",
        "plt.title('Training vs Validation Loss')\n",
        "plt.ylabel('Cross Entropy Loss')\n",
        "plt.xlabel('Batch')\n",
        "plt.legend()\n",
        "plt.show()"
      ],
      "execution_count": 185,
      "outputs": [
        {
          "output_type": "display_data",
          "data": {
            "image/png": "[encoded data removed]",
            "text/plain": [
              "<Figure size 432x288 with 1 Axes>"
            ]
          },
          "metadata": {
            "tags": []
          }
        }
      ]
    },
    {
      "cell_type": "markdown",
      "metadata": {
        "colab_type": "text",
        "id": "ronkEckHiDaU"
      },
      "source": [
        "\n",
        "___\n",
        "\n",
        "### Part 3\n",
        "Print the number of parameters in your network and plot accuracy of your training and validation \n",
        "set over time. You should experiment with some deep networks and see if you can get a network \n",
        "with close to 1,000,000 parameters.\n",
        "\n",
        "**TODO:**\n",
        "* Experiment with Deep Networks\n",
        "* Plot accuracy of training and validation set over time\n",
        "* Print out number of parameters in the model \n",
        "\n",
        "**DONE:**\n",
        "* Experiment with Deep Networks\n",
        "* Plot accuracy of training and validation set over time\n",
        "* Print out number of parameters in the model \n"
      ]
    },
    {
      "cell_type": "code",
      "metadata": {
        "colab_type": "code",
        "id": "PaWCKjxvyRSf",
        "pycharm": {
          "is_executing": false
        },
        "colab": {
          "base_uri": "https://localhost:8080/",
          "height": 295
        },
        "outputId": "2989d20f-9e38-4ccf-c52d-97006c5b6307"
      },
      "source": [
        "\n",
        "# Go back up and try a few different networks and initialization strategies\n",
        "# Plot loss if you want\n",
        "# Plot accuracy\n",
        "a, b = zip(*validation_accuracies)\n",
        "plt.plot(accuracies, 'b-', label='Training Set')\n",
        "# plt.plot(validation_losses, 'g-', label='Validation Set')\n",
        "plt.plot(a, b, 'g-', label='Validation Set')\n",
        "plt.title('Training vs Validation Accuracy')\n",
        "plt.ylabel('Accuracy')\n",
        "plt.xlabel('Batch')\n",
        "plt.legend()\n",
        "plt.show()\n"
      ],
      "execution_count": 186,
      "outputs": [
        {
          "output_type": "display_data",
          "data": {
            "image/png": "[encoded data removed]",
            "text/plain": [
              "<Figure size 432x288 with 1 Axes>"
            ]
          },
          "metadata": {
            "tags": []
          }
        }
      ]
    },
    {
      "cell_type": "code",
      "metadata": {
        "colab_type": "code",
        "id": "oijCR-JnyS6V",
        "pycharm": {
          "is_executing": false
        },
        "colab": {
          "base_uri": "https://localhost:8080/",
          "height": 34
        },
        "outputId": "92ca5873-aa9d-49fe-cfe0-2d5b30557b30"
      },
      "source": [
        "# Compute and print the number of parameters in the model\n",
        "p_sum = 0\n",
        "for p in model.parameters():\n",
        "  p_sum = p_sum + np.product(p.size())\n",
        "\n",
        "print(\"Parameters in model: {}\".format(p_sum))"
      ],
      "execution_count": 162,
      "outputs": [
        {
          "output_type": "stream",
          "text": [
            "Parameters in model: 1006154\n"
          ],
          "name": "stdout"
        }
      ]
    },
    {
      "cell_type": "markdown",
      "metadata": {
        "colab_type": "text",
        "id": "7hXGRxUQh9gX"
      },
      "source": [
        "___\n",
        "\n",
        "### Part 4\n",
        "Learn about how convolution layers affect the shape of outputs, and answer the following quiz questions. Include these in a new markdown cell in your jupyter notebook.\n",
        "\n",
        "\n",
        "*Using a Kernel size of 3×3 what should the settings of your 2d convolution be that results in the following mappings (first answer given to you)*\n",
        "\n",
        "* (c=3, h=10, w=10) ⇒ (c=10, h=8, w=8) : (out_channels=10, kernel_size=(3, 3), padding=(0, 0))\n",
        "* (c=3, h=10, w=10) ⇒ (c=22, h=10, w=10) : **(out_channels=22, kernel_size=(3, 3), padding=(1, 1))**\n",
        "* (c=3, h=10, w=10) ⇒ (c=65, h=12, w=12) : **(out_channels=65, kernel_size=(3, 3), padding=(2, 2))**\n",
        "* (c=3, h=10, w=10) ⇒ (c=7, h=20, w=20) : **(out_channels=7, kernel_size=(3, 3), padding=(6, 6))**\n",
        "\n",
        "*Using a Kernel size of 5×5:*)\n",
        "\n",
        "* (c=3, h=10, w=10) ⇒ (c=10, h=8, w=8) : (out_channels=10, kernel_size=(5, 5), padding=(1, 1))\n",
        "* (c=3, h=10, w=10) ⇒ (c=100, h=10, w=10) : **(out_channels=100, kernel_size=(5, 5), padding=(2, 2))**\n",
        "* (c=3, h=10, w=10) ⇒ (c=23, h=12, w=12) : **(out_channels=23, kernel_size=(5, 5), padding=(3, 3))**\n",
        "* (c=3, h=10, w=10) ⇒ (c=5, h=24, w=24) : **(out_channels=5, kernel_size=(5, 5), padding=(9, 9))**\n",
        "\n",
        "*Using Kernel size of 5×3:*\n",
        "\n",
        "* (c=3, h=10, w=10) ⇒ (c=10, h=8, w=8) : **(out_channels=10, kernel_size=(5, 3), padding=(1, 0))**\n",
        "* (c=3, h=10, w=10) ⇒ (c=100, h=10, w=10) : **(out_channels=100, kernel_size=(5, 3), padding=(2, 1))**\n",
        "* (c=3, h=10, w=10) ⇒ (c=23, h=12, w=12) : **(out_channels=23, kernel_size=(5, 3), padding=(3, 2))**\n",
        "* (c=3, h=10, w=10) ⇒ (c=5, h=24, w=24) : **(out_channels=5, kernel_size=(5, 3), padding=(9, 8))**\n",
        "\n",
        "*Determine the kernel that requires the smallest padding size to make the following mappings possible:*\n",
        "\n",
        "* (c=3, h=10, w=10) ⇒ (c=10, h=9, w=7) : **(out_channels=10, kernel_size=(2, 4), padding=(0, 0))**\n",
        "* (c=3, h=10, w=10) ⇒ (c=22, h=10, w=10) : **(out_channels=22, kernel_size=(1, 1), padding=(0, 0))**\n",
        "\n",
        "**TODO:**\n",
        "\n",
        "* Answer all the questions above \n",
        "\n",
        "**DONE:**\n",
        "\n",
        "* Answer all the questions above \n"
      ]
    },
    {
      "cell_type": "code",
      "metadata": {
        "colab_type": "code",
        "id": "XXfG3wClh8an",
        "pycharm": {
          "is_executing": false
        },
        "colab": {
          "base_uri": "https://localhost:8080/",
          "height": 34
        },
        "outputId": "29949c9e-ddad-45aa-f128-7ba0d590bf44"
      },
      "source": [
        "# Write some test code for checking the answers for these problems (example shown in the video)\n",
        "c = 3\n",
        "out = 22\n",
        "kernel = (1, 1)\n",
        "padding = (0, 0)\n",
        "test_conv = nn.Conv2d(c, out, kernel_size=kernel, padding=padding)\n",
        "test_conv(torch.zeros(1, 3, 10, 10)).size()"
      ],
      "execution_count": 54,
      "outputs": [
        {
          "output_type": "execute_result",
          "data": {
            "text/plain": [
              "torch.Size([1, 22, 10, 10])"
            ]
          },
          "metadata": {
            "tags": []
          },
          "execution_count": 54
        }
      ]
    }
  ]
}